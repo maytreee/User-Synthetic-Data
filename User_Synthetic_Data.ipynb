{
  "nbformat": 4,
  "nbformat_minor": 0,
  "metadata": {
    "colab": {
      "provenance": []
    },
    "kernelspec": {
      "name": "python3",
      "display_name": "Python 3"
    },
    "language_info": {
      "name": "python"
    }
  },
  "cells": [
    {
      "cell_type": "code",
      "execution_count": 1,
      "metadata": {
        "colab": {
          "base_uri": "https://localhost:8080/"
        },
        "id": "PX7LyiKy8ks7",
        "outputId": "209fdc1b-eb8d-4035-fc67-453548de7edf"
      },
      "outputs": [
        {
          "output_type": "stream",
          "name": "stdout",
          "text": [
            "Collecting faker\n",
            "  Downloading Faker-19.3.0-py3-none-any.whl (1.7 MB)\n",
            "\u001b[2K     \u001b[90m━━━━━━━━━━━━━━━━━━━━━━━━━━━━━━━━━━━━━━━━\u001b[0m \u001b[32m1.7/1.7 MB\u001b[0m \u001b[31m20.6 MB/s\u001b[0m eta \u001b[36m0:00:00\u001b[0m\n",
            "\u001b[?25hRequirement already satisfied: numpy in /usr/local/lib/python3.10/dist-packages (1.23.5)\n",
            "Requirement already satisfied: pandas in /usr/local/lib/python3.10/dist-packages (1.5.3)\n",
            "Requirement already satisfied: python-dateutil>=2.4 in /usr/local/lib/python3.10/dist-packages (from faker) (2.8.2)\n",
            "Requirement already satisfied: pytz>=2020.1 in /usr/local/lib/python3.10/dist-packages (from pandas) (2023.3)\n",
            "Requirement already satisfied: six>=1.5 in /usr/local/lib/python3.10/dist-packages (from python-dateutil>=2.4->faker) (1.16.0)\n",
            "Installing collected packages: faker\n",
            "Successfully installed faker-19.3.0\n"
          ]
        }
      ],
      "source": [
        "pip install faker numpy pandas\n"
      ]
    },
    {
      "cell_type": "code",
      "source": [
        "from faker import Faker\n",
        "import numpy as np\n",
        "import pandas as pd\n",
        "\n",
        "fake = Faker()\n",
        "Faker.seed(232) # for reproducibility\n",
        "np.random.seed(232) # for reproducibility\n",
        "\n",
        "# Number of synthetic profiles to generate\n",
        "N = 10000\n",
        "\n",
        "# Define choices and distributions for each question\n",
        "genders = ['Male', 'Female', 'Non-binary/Prefer not to say']\n",
        "gender_probs = [0.49, 0.49, 0.02]\n",
        "\n",
        "ages = np.arange(18, 70)\n",
        "countries = list(set([fake.country() for _ in range(500)]))\n",
        "\n",
        "professions = [\"Arts and Entertainment\", \"Education and Research\", \"Health and Wellness\", \"Tech and Engineering\",\n",
        "               \"Business and Finance\", \"Public Service and Non-Profit\", \"Trades and Services\",\n",
        "               \"Student / Retired / Unemployed / Prefer not to say\"]\n",
        "profession_probs = [0.1, 0.15, 0.15, 0.2, 0.15, 0.1, 0.1, 0.05]\n",
        "\n",
        "education_levels = [\"Some High School\", \"High School Graduate\", \"Some College\", \"College Degree\", \"Post-Graduate Degree\"]\n",
        "education_probs = [0.1, 0.3, 0.2, 0.25, 0.15]\n",
        "\n",
        "celebrity_genres = [\"Film and Television\", \"Music and Performing Arts\", \"Literature and Writing\", \"Sports and Athletics\",\n",
        "                    \"Science and Technology\", \"Politics and Social Activism\", \"Entrepreneurship and Business\"]\n",
        "celebrity_probs = [0.2, 0.15, 0.1, 0.15, 0.1, 0.15, 0.15]\n",
        "\n",
        "free_time_interests = [\"Reading or writing\", \"Browsing the internet or watching videos\",\n",
        "                       \"Exploring nature or learning about the environment\", \"Engaging in personal development or self-improvement activities\"]\n",
        "interest_probs = [0.25, 0.25, 0.25, 0.25]\n",
        "\n",
        "online_habits = [\"Primarily for work, currently focusing on professional growth\",\n",
        "                 \"Balanced between work and leisure, trying to achieve a short-term personal goal\",\n",
        "                 \"Mostly for entertainment, currently planning for the future\",\n",
        "                 \"Limited usage, taking time to relax and enjoy life\"]\n",
        "habit_probs = [0.25, 0.25, 0.25, 0.25]\n",
        "\n",
        "life_goals = [\"Advancing in your career\", \"Personal growth and self-improvement\",\n",
        "              \"Achieving financial security\", \"Contributing to a cause that is important to you\"]\n",
        "goal_probs = [0.25, 0.25, 0.25, 0.25]\n",
        "\n",
        "# Generate synthetic data\n",
        "data = {\n",
        "    'Gender': np.random.choice(genders, size=N, p=gender_probs),\n",
        "    'Age': np.random.choice(ages, size=N),\n",
        "    'Country/Region': np.random.choice(countries, size=N),\n",
        "    'Profession': np.random.choice(professions, size=N, p=profession_probs),\n",
        "    'Education Level': np.random.choice(education_levels, size=N, p=education_probs),\n",
        "    'Favorite Celebrity/Genre': np.random.choice(celebrity_genres, size=N, p=celebrity_probs),\n",
        "    'Free Time Interests': np.random.choice(free_time_interests, size=N, p=interest_probs),\n",
        "    'Online Habits': np.random.choice(online_habits, size=N, p=habit_probs),\n",
        "    'Life Goals': np.random.choice(life_goals, size=N, p=goal_probs)\n",
        "}\n",
        "\n",
        "# Convert to pandas DataFrame\n",
        "df = pd.DataFrame(data)\n",
        "\n",
        "# Save to a CSV file\n",
        "df.to_csv('synthetic_data.csv', index=False)\n"
      ],
      "metadata": {
        "id": "jGcz3iSvBy_7"
      },
      "execution_count": 5,
      "outputs": []
    },
    {
      "cell_type": "code",
      "source": [
        "# Generate synthetic data\n",
        "data = {\n",
        "    'Gender': np.random.choice(genders, size=N, p=gender_probs),\n",
        "    'Age': np.random.choice(ages, size=N),\n",
        "    'Country/Region': np.random.choice(countries, size=N),\n",
        "    'Profession': np.random.choice(professions, size=N, p=profession_probs),\n",
        "    'Education Level': np.random.choice(education_levels, size=N, p=education_probs),\n",
        "    'Favorite Celebrity/Genre': np.random.choice(celebrity_genres, size=N, p=celebrity_probs),\n",
        "    'Free Time Interests': np.random.choice(free_time_interests, size=N, p=interest_probs),\n",
        "    'Online Habits': np.random.choice(online_habits, size=N, p=habit_probs),\n",
        "    'Life Goals': np.random.choice(life_goals, size=N, p=goal_probs)\n",
        "}\n",
        "\n",
        "# Convert to pandas DataFrame\n",
        "df = pd.DataFrame(data)\n",
        "\n",
        "# Save to a CSV file\n",
        "df.to_csv('synthetic_data.csv', index=False)\n"
      ],
      "metadata": {
        "id": "di3mJeMcDDD1"
      },
      "execution_count": null,
      "outputs": []
    },
    {
      "cell_type": "code",
      "source": [
        "# Display the first few rows of the dataset\n",
        "print(df.head())\n"
      ],
      "metadata": {
        "colab": {
          "base_uri": "https://localhost:8080/"
        },
        "id": "9FdHj68lDMOV",
        "outputId": "e8337959-eadb-4725-fae1-2e87b6b3ae57"
      },
      "execution_count": 6,
      "outputs": [
        {
          "output_type": "stream",
          "name": "stdout",
          "text": [
            "   Gender  Age Country/Region                     Profession  \\\n",
            "0    Male   41          Aruba            Trades and Services   \n",
            "1    Male   62       Anguilla  Public Service and Non-Profit   \n",
            "2    Male   22           Fiji           Tech and Engineering   \n",
            "3  Female   44          Macao           Tech and Engineering   \n",
            "4    Male   56       Slovenia            Health and Wellness   \n",
            "\n",
            "        Education Level       Favorite Celebrity/Genre  \\\n",
            "0  Post-Graduate Degree  Entrepreneurship and Business   \n",
            "1  High School Graduate         Science and Technology   \n",
            "2  Post-Graduate Degree         Science and Technology   \n",
            "3  High School Graduate            Film and Television   \n",
            "4  High School Graduate  Entrepreneurship and Business   \n",
            "\n",
            "                                 Free Time Interests  \\\n",
            "0  Engaging in personal development or self-impro...   \n",
            "1           Browsing the internet or watching videos   \n",
            "2  Exploring nature or learning about the environ...   \n",
            "3  Exploring nature or learning about the environ...   \n",
            "4  Exploring nature or learning about the environ...   \n",
            "\n",
            "                                       Online Habits  \\\n",
            "0  Balanced between work and leisure, trying to a...   \n",
            "1  Primarily for work, currently focusing on prof...   \n",
            "2  Balanced between work and leisure, trying to a...   \n",
            "3  Limited usage, taking time to relax and enjoy ...   \n",
            "4  Primarily for work, currently focusing on prof...   \n",
            "\n",
            "                             Life Goals  \n",
            "0              Advancing in your career  \n",
            "1              Advancing in your career  \n",
            "2              Advancing in your career  \n",
            "3  Personal growth and self-improvement  \n",
            "4  Personal growth and self-improvement  \n"
          ]
        }
      ]
    },
    {
      "cell_type": "code",
      "source": [
        "df_encoded = pd.get_dummies(df, columns=['Gender', 'Profession', 'Education Level', 'Favorite Celebrity/Genre', 'Free Time Interests', 'Online Habits', 'Life Goals'])\n"
      ],
      "metadata": {
        "id": "5UFtbWn4EfNy"
      },
      "execution_count": 7,
      "outputs": []
    },
    {
      "cell_type": "code",
      "source": [
        "# Check the distribution of Gender, Profession, Education Level, etc.\n",
        "print(df['Gender'].value_counts())\n",
        "print(df['Profession'].value_counts())\n",
        "print(df['Education Level'].value_counts())\n",
        "print(df['Favorite Celebrity/Genre'].value_counts())\n",
        "print(df['Free Time Interests'].value_counts())\n",
        "print(df['Online Habits'].value_counts())\n",
        "print(df['Life Goals'].value_counts())"
      ],
      "metadata": {
        "colab": {
          "base_uri": "https://localhost:8080/"
        },
        "id": "9Kzg3pJHEfK4",
        "outputId": "03851c93-1500-44ab-e95e-4227c27e709b"
      },
      "execution_count": 8,
      "outputs": [
        {
          "output_type": "stream",
          "name": "stdout",
          "text": [
            "Male                            4918\n",
            "Female                          4895\n",
            "Non-binary/Prefer not to say     187\n",
            "Name: Gender, dtype: int64\n",
            "Tech and Engineering                                  2052\n",
            "Health and Wellness                                   1521\n",
            "Education and Research                                1513\n",
            "Business and Finance                                  1433\n",
            "Arts and Entertainment                                1029\n",
            "Trades and Services                                    978\n",
            "Public Service and Non-Profit                          968\n",
            "Student / Retired / Unemployed / Prefer not to say     506\n",
            "Name: Profession, dtype: int64\n",
            "High School Graduate    3022\n",
            "College Degree          2505\n",
            "Some College            2010\n",
            "Post-Graduate Degree    1493\n",
            "Some High School         970\n",
            "Name: Education Level, dtype: int64\n",
            "Film and Television              2021\n",
            "Politics and Social Activism     1516\n",
            "Music and Performing Arts        1487\n",
            "Sports and Athletics             1473\n",
            "Entrepreneurship and Business    1442\n",
            "Literature and Writing           1044\n",
            "Science and Technology           1017\n",
            "Name: Favorite Celebrity/Genre, dtype: int64\n",
            "Reading or writing                                                 2567\n",
            "Exploring nature or learning about the environment                 2510\n",
            "Engaging in personal development or self-improvement activities    2466\n",
            "Browsing the internet or watching videos                           2457\n",
            "Name: Free Time Interests, dtype: int64\n",
            "Primarily for work, currently focusing on professional growth                      2606\n",
            "Balanced between work and leisure, trying to achieve a short-term personal goal    2520\n",
            "Mostly for entertainment, currently planning for the future                        2472\n",
            "Limited usage, taking time to relax and enjoy life                                 2402\n",
            "Name: Online Habits, dtype: int64\n",
            "Contributing to a cause that is important to you    2595\n",
            "Personal growth and self-improvement                2495\n",
            "Advancing in your career                            2457\n",
            "Achieving financial security                        2453\n",
            "Name: Life Goals, dtype: int64\n"
          ]
        }
      ]
    },
    {
      "cell_type": "code",
      "source": [
        "import matplotlib.pyplot as plt\n",
        "import seaborn as sns\n",
        "\n",
        "# Distribution of Gender\n",
        "sns.countplot(data=df, x='Gender')\n",
        "plt.title('Distribution of Gender')\n",
        "plt.show()\n",
        "\n",
        "# Distribution of Professions\n",
        "plt.figure(figsize=(10,6))\n",
        "sns.countplot(data=df, y='Profession')\n",
        "plt.title('Distribution of Professions')\n",
        "plt.show()\n",
        "\n",
        "\n"
      ],
      "metadata": {
        "colab": {
          "base_uri": "https://localhost:8080/",
          "height": 1000
        },
        "id": "zUyz5DjXHyEA",
        "outputId": "73da71bb-aec2-4288-d08a-eb3ce6992df5"
      },
      "execution_count": 9,
      "outputs": [
        {
          "output_type": "display_data",
          "data": {
            "text/plain": [
              "<Figure size 640x480 with 1 Axes>"
            ],
            "image/png": "[encoded data removed]"
          },
          "metadata": {}
        },
        {
          "output_type": "display_data",
          "data": {
            "text/plain": [
              "<Figure size 1000x600 with 1 Axes>"
            ],
            "image/png": "[encoded data removed]"
          },
          "metadata": {}
        }
      ]
    },
    {
      "cell_type": "code",
      "source": [
        "print(df.describe())\n"
      ],
      "metadata": {
        "colab": {
          "base_uri": "https://localhost:8080/"
        },
        "id": "00uamtaTHyBS",
        "outputId": "865ab65c-38df-4af0-b6f5-e6d4ed6b4862"
      },
      "execution_count": 10,
      "outputs": [
        {
          "output_type": "stream",
          "name": "stdout",
          "text": [
            "                Age\n",
            "count  10000.000000\n",
            "mean      43.145500\n",
            "std       15.055198\n",
            "min       18.000000\n",
            "25%       30.000000\n",
            "50%       43.000000\n",
            "75%       56.000000\n",
            "max       69.000000\n"
          ]
        }
      ]
    },
    {
      "cell_type": "code",
      "source": [
        "# Saving the distribution of professions to a CSV\n",
        "profession_distribution = df['Profession'].value_counts()\n",
        "profession_distribution.to_csv('profession_distribution.csv')\n",
        "#can save more data i.e education, hobbies etc."
      ],
      "metadata": {
        "id": "grEStLqXHx-k"
      },
      "execution_count": 11,
      "outputs": []
    },
    {
      "cell_type": "code",
      "source": [
        "def main():\n",
        "    # Store user's responses\n",
        "    user_profile = {}\n",
        "\n",
        "    # Question 1\n",
        "    print(\"Question 1: Please select your gender.\")\n",
        "    print(\"A) Male\\nB) Female\\nC) Non-binary/Prefer not to say\")\n",
        "    user_profile['Gender'] = input(\"Your answer (A/B/C): \")\n",
        "\n",
        "    # Question 2\n",
        "    user_profile['Birth Year'] = input(\"Question 2: Please enter your birth year (e.g., 1995): \")\n",
        "\n",
        "    # Question 3\n",
        "    user_profile['Location'] = input(\"Question 3: Please enter your location (country/region): \")\n",
        "\n",
        "    # Question 4\n",
        "    print(\"Question 4: Which category best describes your profession?\")\n",
        "    professions = [\"A) Arts and Entertainment\", \"B) Education and Research\", \"C) Health and Wellness\",\n",
        "                   \"D) Tech and Engineering\", \"E) Business and Finance\", \"F) Public Service and Non-Profit\",\n",
        "                   \"G) Trades and Services\", \"H) Student / Retired / Unemployed / Prefer not to say\"]\n",
        "    for profession in professions:\n",
        "        print(profession)\n",
        "    user_profile['Profession'] = input(\"Your answer (A/B/C/D/E/F/G/H): \")\n",
        "\n",
        "    # Question 5\n",
        "    print(\"Question 5: What is your highest level of formal education?\")\n",
        "    education_levels = [\"A) Some High School\", \"B) High School Graduate\", \"C) Some College\",\n",
        "                        \"D) College Degree\", \"E) Post-Graduate Degree\"]\n",
        "    for level in education_levels:\n",
        "        print(level)\n",
        "    user_profile['Education Level'] = input(\"Your answer (A/B/C/D/E): \")\n",
        "\n",
        "    # Question 6\n",
        "    print(\"Question 6: Which of these celebrity genres are you most interested in?\")\n",
        "    genres = [\"A) Film and Television\", \"B) Music and Performing Arts\", \"C) Literature and Writing\",\n",
        "              \"D) Sports and Athletics\", \"E) Science and Technology\", \"F) Politics and Social Activism\",\n",
        "              \"G) Entrepreneurship and Business\"]\n",
        "    for genre in genres:\n",
        "        print(genre)\n",
        "    user_profile['Favorite Celebrity/Genre'] = input(\"Your answer (A/B/C/D/E/F/G): \")\n",
        "\n",
        "    # Question 7\n",
        "    print(\"Question 7: What do you enjoy doing in your free time?\")\n",
        "    interests = [\"A) Reading or writing\", \"B) Browsing the internet or watching videos\",\n",
        "                 \"C) Exploring nature or learning about the environment\",\n",
        "                 \"D) Engaging in personal development or self-improvement activities\"]\n",
        "    for interest in interests:\n",
        "        print(interest)\n",
        "    user_profile['Free Time Interests'] = input(\"Your answer (A/B/C/D): \")\n",
        "\n",
        "    # Question 8\n",
        "    print(\"Question 8: How do you usually spend your time online, and what are you currently focusing on??\")\n",
        "    habits = [\"A) Primarily for work, currently focusing on professional growth\",\n",
        "              \"B) Balanced between work and leisure, trying to achieve a short-term personal goal\",\n",
        "              \"C) Mostly for entertainment, currently planning for the future\",\n",
        "              \"D) Limited usage, taking time to relax and enjoy life\"]\n",
        "    for habit in habits:\n",
        "        print(habit)\n",
        "    user_profile['Online Habits'] = input(\"Your answer (A/B/C/D): \")\n",
        "\n",
        "    # Question 9\n",
        "    print(\"Question 9: Which of the following best describes your primary life goal?\")\n",
        "    goals = [\"A) Advancing in your career\", \"B) Personal growth and self-improvement\",\n",
        "             \"C) Achieving financial security\", \"D) Contributing to a cause that is important to you\"]\n",
        "    for goal in goals:\n",
        "        print(goal)\n",
        "    user_profile['Life Goals'] = input(\"Your answer (A/B/C/D): \")\n",
        "\n",
        "    print(\"\\nThank you for your responses!\")\n",
        "    # You can further process the user_profile or save it to a file.\n",
        "    return user_profile\n",
        "\n",
        "\n",
        "if __name__ == \"__main__\":\n",
        "    profile = main()\n",
        "    print(\"\\nUser Profile:\\n\", profile)\n"
      ],
      "metadata": {
        "colab": {
          "base_uri": "https://localhost:8080/"
        },
        "id": "BzFPf3BoHx1r",
        "outputId": "14e600b0-efe1-40b5-b65c-d01e1dd7ab48"
      },
      "execution_count": 12,
      "outputs": [
        {
          "output_type": "stream",
          "name": "stdout",
          "text": [
            "Question 1: Please select your gender.\n",
            "A) Male\n",
            "B) Female\n",
            "C) Non-binary/Prefer not to say\n",
            "Your answer (A/B/C): a\n",
            "Question 2: Please enter your birth year (e.g., 1995): 1999\n",
            "Question 3: Please enter your location (country/region): virginia\n",
            "Question 4: Which category best describes your profession?\n",
            "A) Arts and Entertainment\n",
            "B) Education and Research\n",
            "C) Health and Wellness\n",
            "D) Tech and Engineering\n",
            "E) Business and Finance\n",
            "F) Public Service and Non-Profit\n",
            "G) Trades and Services\n",
            "H) Student / Retired / Unemployed / Prefer not to say\n",
            "Your answer (A/B/C/D/E/F/G/H): a\n",
            "Question 5: What is your highest level of formal education?\n",
            "A) Some High School\n",
            "B) High School Graduate\n",
            "C) Some College\n",
            "D) College Degree\n",
            "E) Post-Graduate Degree\n",
            "Your answer (A/B/C/D/E): a\n",
            "Question 6: Which of these celebrity genres are you most interested in?\n",
            "A) Film and Television\n",
            "B) Music and Performing Arts\n",
            "C) Literature and Writing\n",
            "D) Sports and Athletics\n",
            "E) Science and Technology\n",
            "F) Politics and Social Activism\n",
            "G) Entrepreneurship and Business\n",
            "Your answer (A/B/C/D/E/F/G): a\n",
            "Question 7: What do you enjoy doing in your free time?\n",
            "A) Reading or writing\n",
            "B) Browsing the internet or watching videos\n",
            "C) Exploring nature or learning about the environment\n",
            "D) Engaging in personal development or self-improvement activities\n",
            "Your answer (A/B/C/D): a\n",
            "Question 8: How do you usually spend your time online, and what are you currently focusing on??\n",
            "A) Primarily for work, currently focusing on professional growth\n",
            "B) Balanced between work and leisure, trying to achieve a short-term personal goal\n",
            "C) Mostly for entertainment, currently planning for the future\n",
            "D) Limited usage, taking time to relax and enjoy life\n",
            "Your answer (A/B/C/D): s\n",
            "Question 9: Which of the following best describes your primary life goal?\n",
            "A) Advancing in your career\n",
            "B) Personal growth and self-improvement\n",
            "C) Achieving financial security\n",
            "D) Contributing to a cause that is important to you\n",
            "Your answer (A/B/C/D): a\n",
            "\n",
            "Thank you for your responses!\n",
            "\n",
            "User Profile:\n",
            " {'Gender': 'a', 'Birth Year': '1999', 'Location': 'virginia', 'Profession': 'a', 'Education Level': 'a', 'Favorite Celebrity/Genre': 'a', 'Free Time Interests': 'a', 'Online Habits': 's', 'Life Goals': 'a'}\n"
          ]
        }
      ]
    }
  ]
}